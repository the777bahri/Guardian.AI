{
 "cells": [
  {
   "cell_type": "markdown",
   "metadata": {},
   "source": [
    "# Importing libraries"
   ]
  },
  {
   "cell_type": "code",
   "execution_count": 1,
   "metadata": {},
   "outputs": [],
   "source": [
    "import torch\n",
    "import torch.nn as nn\n",
    "import torch.optim as optim\n",
    "import numpy as np\n",
    "import json\n",
    "import os\n",
    "from torch.utils.data import Dataset, DataLoader\n",
    "from sklearn.model_selection import train_test_split\n",
    "import cv2  # Import cv2\n",
    "from sklearn.metrics import classification_report, confusion_matrix\n",
    "import logging\n",
    "import seaborn as sns\n",
    "import matplotlib.pyplot as plt\n",
    "import seaborn as sns\n",
    "import matplotlib.cm as cm\n",
    "\n"
   ]
  },
  {
   "cell_type": "markdown",
   "metadata": {},
   "source": [
    "# check each library"
   ]
  },
  {
   "cell_type": "code",
   "execution_count": 2,
   "metadata": {},
   "outputs": [
    {
     "name": "stdout",
     "output_type": "stream",
     "text": [
      "Torch version: 2.6.0+cu126\n",
      "CUDA available: True\n",
      "CUDA version: 12.6\n",
      "Numpy works! Array: [1 2 3]\n",
      "JSON works! String: {\"key\": \"value\"}\n",
      "OS works! Current directory: c:\\Users\\engab\\Desktop\\stuff\\uni\\1\\UTS\\Autunm- 2025\\42174 Artificial Intelligence Studio\\FVLegion_InitialDev-main\\training\n",
      "OpenCV works! Image shape: (100, 100, 3)\n",
      "All libraries are installed and working correctly!\n"
     ]
    }
   ],
   "source": [
    "try:\n",
    "    # Torch and CUDA check\n",
    "    print(\"Torch version:\", torch.__version__)\n",
    "    print(\"CUDA available:\", torch.cuda.is_available())\n",
    "    print(\"CUDA version:\", torch.version.cuda)\n",
    "\n",
    "    # Numpy check\n",
    "    array = np.array([1, 2, 3])\n",
    "    print(\"Numpy works! Array:\", array)\n",
    "\n",
    "    # JSON check\n",
    "    data = {\"key\": \"value\"}\n",
    "    json_str = json.dumps(data)\n",
    "    print(\"JSON works! String:\", json_str)\n",
    "\n",
    "    # OS check\n",
    "    current_dir = os.getcwd()\n",
    "    print(\"OS works! Current directory:\", current_dir)\n",
    "\n",
    "    # OpenCV check\n",
    "    image = np.zeros((100, 100, 3), dtype=np.uint8)\n",
    "    cv2.putText(image, \"Test\", (10, 50), cv2.FONT_HERSHEY_SIMPLEX, 1, (255, 255, 255), 2)\n",
    "    print(\"OpenCV works! Image shape:\", image.shape)\n",
    "\n",
    "    print(\"All libraries are installed and working correctly!\")\n",
    "\n",
    "except Exception as e:\n",
    "    print(f\"Error occurred: {e}\")"
   ]
  },
  {
   "cell_type": "markdown",
   "metadata": {},
   "source": [
    "# # --- 1. Data Preprocessing ---"
   ]
  },
  {
   "cell_type": "code",
   "execution_count": 3,
   "metadata": {},
   "outputs": [],
   "source": [
    "class PoseDataset(Dataset):\n",
    "    def __init__(self, data_dir, action_classes, max_frames=40):\n",
    "        self.data_dir = data_dir\n",
    "        self.action_classes = action_classes\n",
    "        self.max_frames = max_frames  # Maximum number of frames per clip\n",
    "        self.data, self.labels = self.load_data()\n",
    "\n",
    "\n",
    "    def load_data(self):\n",
    "        data = []\n",
    "        labels = []\n",
    "        for i, action in enumerate(self.action_classes):\n",
    "            action_dir = os.path.join(self.data_dir, action)\n",
    "            if not os.path.exists(action_dir):\n",
    "              print(f\"Warning: Directory not found: {action_dir}\")  # Debugging\n",
    "              continue\n",
    "\n",
    "            for filename in os.listdir(action_dir):\n",
    "                if filename.endswith(\"_keypoints.json\"):\n",
    "                    filepath = os.path.join(action_dir, filename)\n",
    "                    try:\n",
    "                        with open(filepath, 'r') as f:\n",
    "                            keypoints_data = json.load(f)\n",
    "                            # Extract keypoints and normalize\n",
    "\n",
    "                            normalized_keypoints = self.process_keypoints(keypoints_data)\n",
    "                            if normalized_keypoints is not None:\n",
    "                                data.append(normalized_keypoints)\n",
    "                                labels.append(i)  # Use index as label\n",
    "                    except (json.JSONDecodeError, FileNotFoundError) as e:\n",
    "                        print(f\"Error loading or processing {filepath}: {e}\")\n",
    "                        continue  # Skip to the next file\n",
    "\n",
    "        return data, labels\n",
    "\n",
    "    def process_keypoints(self, keypoints_data):\n",
    "        all_frames_keypoints = []\n",
    "        previous_frame = None  # For temporal smoothing\n",
    "        alpha = 0.8  # Smoothing factor for EMA\n",
    "\n",
    "        for frame_data in keypoints_data:\n",
    "            if not isinstance(frame_data, dict) or 'keypoints' not in frame_data:\n",
    "                print(f\"Skipping invalid frame data: {frame_data}\")  # Debugging\n",
    "                continue  # Skip malformed data\n",
    "\n",
    "            frame_keypoints = frame_data['keypoints']\n",
    "            if not isinstance(frame_keypoints, list) or len(frame_keypoints) == 0:\n",
    "                print(\"frame keypoints is not a list or is empty\")\n",
    "                continue\n",
    "\n",
    "            frame_keypoints_np = np.array(frame_keypoints[0]).reshape(-1, 3)  # First person, (17, 3)\n",
    "            if frame_keypoints_np.shape != (17, 3):\n",
    "                print(f\"Incorrect shape: {frame_keypoints_np.shape}\")\n",
    "                continue\n",
    "\n",
    "            # Filter out keypoints with low confidence\n",
    "            valid_keypoints = frame_keypoints_np[frame_keypoints_np[:, 2] > 0.2]\n",
    "            if valid_keypoints.size == 0:\n",
    "                continue\n",
    "\n",
    "            # Z-Score Normalization\n",
    "            mean_x = np.mean(valid_keypoints[:, 0])\n",
    "            std_x = np.std(valid_keypoints[:, 0]) + 1e-8  # Avoid division by zero\n",
    "            mean_y = np.mean(valid_keypoints[:, 1])\n",
    "            std_y = np.std(valid_keypoints[:, 1]) + 1e-8\n",
    "\n",
    "            normalized_frame_keypoints = frame_keypoints_np.copy()\n",
    "            normalized_frame_keypoints[:, 0] = (normalized_frame_keypoints[:, 0] - mean_x) / std_x\n",
    "            normalized_frame_keypoints[:, 1] = (normalized_frame_keypoints[:, 1] - mean_y) / std_y\n",
    "\n",
    "            # Temporal Smoothing using EMA\n",
    "            if previous_frame is not None:\n",
    "                normalized_frame_keypoints[:, 0] = alpha * normalized_frame_keypoints[:, 0] + (1 - alpha) * previous_frame[:, 0]\n",
    "                normalized_frame_keypoints[:, 1] = alpha * normalized_frame_keypoints[:, 1] + (1 - alpha) * previous_frame[:, 1]\n",
    "\n",
    "            previous_frame = normalized_frame_keypoints  # Update for the next iteration\n",
    "\n",
    "            # Flatten and remove confidence scores\n",
    "            normalized_frame_keypoints = normalized_frame_keypoints[:, :2].flatten()\n",
    "            all_frames_keypoints.append(normalized_frame_keypoints)\n",
    "\n",
    "        # Padding (or truncating)\n",
    "        if not all_frames_keypoints:\n",
    "            return None\n",
    "        padded_keypoints = np.zeros((self.max_frames, all_frames_keypoints[0].shape[0]))\n",
    "        for i, frame_kps in enumerate(all_frames_keypoints):\n",
    "            if i < self.max_frames:\n",
    "                padded_keypoints[i, :] = frame_kps\n",
    "\n",
    "        return padded_keypoints\n",
    "\n",
    "\n",
    "    def __len__(self):\n",
    "        return len(self.data)\n",
    "\n",
    "    def __getitem__(self, idx):\n",
    "        return torch.tensor(self.data[idx], dtype=torch.float32), torch.tensor(self.labels[idx], dtype=torch.long)\n"
   ]
  },
  {
   "cell_type": "markdown",
   "metadata": {},
   "source": [
    "# --- 2. Model Definition ---\n"
   ]
  },
  {
   "cell_type": "code",
   "execution_count": 4,
   "metadata": {},
   "outputs": [],
   "source": [
    "class AttentionLayer(nn.Module):\n",
    "    def __init__(self, hidden_size):\n",
    "        super(AttentionLayer, self).__init__()\n",
    "        self.attention_weights = nn.Linear(hidden_size * 2, 1)  # hidden_size * 2 for BiLSTM\n",
    "\n",
    "    def forward(self, lstm_output):\n",
    "        # lstm_output: (batch_size, seq_length, hidden_size * 2)\n",
    "        scores = self.attention_weights(lstm_output)  # (batch_size, seq_length, 1)\n",
    "        attention_weights = torch.softmax(scores, dim=1)  # Softmax over the sequence length\n",
    "        context_vector = torch.sum(attention_weights * lstm_output, dim=1)  # Weighted sum of the outputs\n",
    "        return context_vector, attention_weights.squeeze(-1)\n",
    "\n",
    "\n",
    "class ActionRecognitionBiLSTMWithAttention(nn.Module):\n",
    "    def __init__(self, input_size, hidden_size, num_layers, num_classes, dropout_rate=0.5):\n",
    "        super(ActionRecognitionBiLSTMWithAttention, self).__init__()\n",
    "        self.hidden_size = hidden_size\n",
    "        self.num_layers = num_layers\n",
    "        self.bidirectional = True\n",
    "        self.lstm = nn.LSTM(input_size, hidden_size, num_layers,\n",
    "                            batch_first=True, dropout=dropout_rate, bidirectional=self.bidirectional)\n",
    "        self.attention = AttentionLayer(hidden_size)\n",
    "        self.fc = nn.Linear(hidden_size * 2, num_classes)  # Multiply by 2 for bidirectional\n",
    "        self.dropout = nn.Dropout(dropout_rate)\n",
    "\n",
    "    def forward(self, x):\n",
    "        h0 = torch.zeros(self.num_layers * 2, x.size(0), self.hidden_size).to(x.device)\n",
    "        c0 = torch.zeros(self.num_layers * 2, x.size(0), self.hidden_size).to(x.device)\n",
    "\n",
    "        out, _ = self.lstm(x, (h0, c0))  # (batch_size, seq_length, hidden_size * 2)\n",
    "        out = self.dropout(out)\n",
    "\n",
    "        context_vector, attention_weights = self.attention(out)\n",
    "\n",
    "        # Decode the context vector from the attention layer\n",
    "        out = self.fc(context_vector)\n",
    "        return out, attention_weights\n"
   ]
  },
  {
   "cell_type": "markdown",
   "metadata": {},
   "source": [
    "# --- 3. Training and Evaluation Setup ---\n"
   ]
  },
  {
   "cell_type": "code",
   "execution_count": 5,
   "metadata": {},
   "outputs": [],
   "source": [
    "action_classes = [\"Falling\", \"No Action\", \"Waving\"]\n",
    "\n",
    "\n",
    "# Hyperparameters\n",
    "input_size = 34  # 17 keypoints * 2 (x, y)\n",
    "hidden_size = 32\n",
    "num_layers = 3\n",
    "num_classes = len(action_classes)\n",
    "learning_rate = 0.01\n",
    "batch_size = 32\n",
    "num_epochs = 30  # Increased epochs\n",
    "dropout_rate = 0.2 # Dropout\n",
    "\n",
    "\n",
    "# Device configuration\n",
    "device = torch.device('cuda' if torch.cuda.is_available() else 'cpu')\n"
   ]
  },
  {
   "cell_type": "markdown",
   "metadata": {},
   "source": [
    "# --- 4. Data Loading ---\n"
   ]
  },
  {
   "cell_type": "code",
   "execution_count": 6,
   "metadata": {},
   "outputs": [
    {
     "name": "stdout",
     "output_type": "stream",
     "text": [
      "Using Ensemble Model: ['str']\n"
     ]
    }
   ],
   "source": [
    "dataset = PoseDataset(\"../data collection v4/data\", action_classes)\n",
    "\n",
    "# Split the dataset\n",
    "train_data, test_data, train_labels, test_labels = train_test_split(\n",
    "    dataset.data, dataset.labels, test_size=0.2, random_state=42\n",
    ")\n",
    "\n",
    "# Create new datasets using the split data\n",
    "train_dataset = PoseDataset(\"../data collection v4/data\", action_classes)  # Pass action_classes\n",
    "train_dataset.data = train_data\n",
    "train_dataset.labels = train_labels\n",
    "test_dataset = PoseDataset(\"../data collection v4/data\", action_classes)   # and here\n",
    "test_dataset.data = test_data\n",
    "test_dataset.labels = test_labels\n",
    "\n",
    "train_loader = DataLoader(dataset=train_dataset, batch_size=batch_size, shuffle=True)\n",
    "test_loader = DataLoader(dataset=test_dataset, batch_size=batch_size, shuffle=False)\n",
    "\n",
    "# Initialize individual models separately\n",
    "models = {\n",
    "    \"BiLSTMWithAttention\": ActionRecognitionBiLSTMWithAttention(input_size, hidden_size, num_layers, num_classes, dropout_rate).to(device),\n",
    "}\n",
    "\n",
    "\n",
    "print(f\"Using Ensemble Model: {[model.__class__.__name__ for model in models]}\")\n",
    "logging.info(f\"Using Ensemble Model: {[model.__class__.__name__ for model in models]}\")\n",
    "\n"
   ]
  },
  {
   "cell_type": "markdown",
   "metadata": {},
   "source": [
    "# --- 5. Training and Evaluation Loop ---\n"
   ]
  },
  {
   "cell_type": "code",
   "execution_count": 7,
   "metadata": {},
   "outputs": [
    {
     "name": "stdout",
     "output_type": "stream",
     "text": [
      " THE CURRENT DIR IS 🔫🔫c:\\Users\\engab\\Desktop\\stuff\\uni\\1\\UTS\\Autunm- 2025\\42174 Artificial Intelligence Studio\\FVLegion_InitialDev-main\\training\n"
     ]
    }
   ],
   "source": [
    "# Get the current working directory\n",
    "current_dir = os.getcwd()\n",
    "log_file = os.path.join(current_dir, 'BiLSTM_training_updated_attention_BILSTM_4.0.log')\n",
    "\n",
    "# Reconfigure logging to avoid being ignored if already configured\n",
    "for handler in logging.root.handlers[:]:\n",
    "    logging.root.removeHandler(handler)\n",
    "\n",
    "# Configure logging\n",
    "logging.basicConfig(\n",
    "    filename=log_file,  # Use the full path for the log file\n",
    "    level=logging.INFO,  # Log level\n",
    "    format='%(asctime)s - %(levelname)s - %(message)s',  # Log format\n",
    "    datefmt='%Y-%m-%d %H:%M:%S'  # Date format\n",
    ")\n",
    "\n",
    "print(f\" THE CURRENT DIR IS 🔫🔫{current_dir}\")\n",
    "logging.info(\"Logging initialized successfully.\")"
   ]
  },
  {
   "cell_type": "code",
   "execution_count": 10,
   "metadata": {},
   "outputs": [
    {
     "name": "stdout",
     "output_type": "stream",
     "text": [
      "Training model: BiLSTMWithAttention\n",
      "Epoch [1/30] - BiLSTMWithAttention, Train Loss: 0.4407, LR: 0.010000\n",
      "Epoch [1/30] - BiLSTMWithAttention, Test Loss: 0.2371, Accuracy: 93.10%\n"
     ]
    },
    {
     "name": "stderr",
     "output_type": "stream",
     "text": [
      "C:\\Users\\engab\\AppData\\Local\\Temp\\ipykernel_23128\\591907189.py:53: MatplotlibDeprecationWarning: The get_cmap function was deprecated in Matplotlib 3.7 and will be removed in 3.11. Use ``matplotlib.colormaps[name]`` or ``matplotlib.colormaps.get_cmap()`` or ``pyplot.get_cmap()`` instead.\n",
      "  colormap = cm.get_cmap('coolwarm')\n"
     ]
    },
    {
     "name": "stdout",
     "output_type": "stream",
     "text": [
      "Best model saved: BiLSTMWithAttention_best_model_4.0.pth with accuracy: 93.10%\n",
      "Epoch [2/30] - BiLSTMWithAttention, Train Loss: 0.2761, LR: 0.010000\n",
      "Epoch [2/30] - BiLSTMWithAttention, Test Loss: 0.4679, Accuracy: 83.91%\n"
     ]
    },
    {
     "name": "stderr",
     "output_type": "stream",
     "text": [
      "C:\\Users\\engab\\AppData\\Local\\Temp\\ipykernel_23128\\591907189.py:53: MatplotlibDeprecationWarning: The get_cmap function was deprecated in Matplotlib 3.7 and will be removed in 3.11. Use ``matplotlib.colormaps[name]`` or ``matplotlib.colormaps.get_cmap()`` or ``pyplot.get_cmap()`` instead.\n",
      "  colormap = cm.get_cmap('coolwarm')\n"
     ]
    },
    {
     "name": "stdout",
     "output_type": "stream",
     "text": [
      "Epoch [3/30] - BiLSTMWithAttention, Train Loss: 0.2088, LR: 0.010000\n",
      "Epoch [3/30] - BiLSTMWithAttention, Test Loss: 0.3091, Accuracy: 91.95%\n"
     ]
    },
    {
     "name": "stderr",
     "output_type": "stream",
     "text": [
      "C:\\Users\\engab\\AppData\\Local\\Temp\\ipykernel_23128\\591907189.py:53: MatplotlibDeprecationWarning: The get_cmap function was deprecated in Matplotlib 3.7 and will be removed in 3.11. Use ``matplotlib.colormaps[name]`` or ``matplotlib.colormaps.get_cmap()`` or ``pyplot.get_cmap()`` instead.\n",
      "  colormap = cm.get_cmap('coolwarm')\n"
     ]
    },
    {
     "name": "stdout",
     "output_type": "stream",
     "text": [
      "Epoch [4/30] - BiLSTMWithAttention, Train Loss: 0.3195, LR: 0.010000\n",
      "Epoch [4/30] - BiLSTMWithAttention, Test Loss: 0.1891, Accuracy: 93.10%\n"
     ]
    },
    {
     "name": "stderr",
     "output_type": "stream",
     "text": [
      "C:\\Users\\engab\\AppData\\Local\\Temp\\ipykernel_23128\\591907189.py:53: MatplotlibDeprecationWarning: The get_cmap function was deprecated in Matplotlib 3.7 and will be removed in 3.11. Use ``matplotlib.colormaps[name]`` or ``matplotlib.colormaps.get_cmap()`` or ``pyplot.get_cmap()`` instead.\n",
      "  colormap = cm.get_cmap('coolwarm')\n"
     ]
    },
    {
     "name": "stdout",
     "output_type": "stream",
     "text": [
      "Epoch [5/30] - BiLSTMWithAttention, Train Loss: 0.1717, LR: 0.010000\n",
      "Epoch [5/30] - BiLSTMWithAttention, Test Loss: 0.2177, Accuracy: 93.10%\n"
     ]
    },
    {
     "name": "stderr",
     "output_type": "stream",
     "text": [
      "C:\\Users\\engab\\AppData\\Local\\Temp\\ipykernel_23128\\591907189.py:53: MatplotlibDeprecationWarning: The get_cmap function was deprecated in Matplotlib 3.7 and will be removed in 3.11. Use ``matplotlib.colormaps[name]`` or ``matplotlib.colormaps.get_cmap()`` or ``pyplot.get_cmap()`` instead.\n",
      "  colormap = cm.get_cmap('coolwarm')\n"
     ]
    },
    {
     "name": "stdout",
     "output_type": "stream",
     "text": [
      "Epoch [6/30] - BiLSTMWithAttention, Train Loss: 0.1383, LR: 0.010000\n",
      "Epoch [6/30] - BiLSTMWithAttention, Test Loss: 0.2083, Accuracy: 94.25%\n"
     ]
    },
    {
     "name": "stderr",
     "output_type": "stream",
     "text": [
      "C:\\Users\\engab\\AppData\\Local\\Temp\\ipykernel_23128\\591907189.py:53: MatplotlibDeprecationWarning: The get_cmap function was deprecated in Matplotlib 3.7 and will be removed in 3.11. Use ``matplotlib.colormaps[name]`` or ``matplotlib.colormaps.get_cmap()`` or ``pyplot.get_cmap()`` instead.\n",
      "  colormap = cm.get_cmap('coolwarm')\n"
     ]
    },
    {
     "name": "stdout",
     "output_type": "stream",
     "text": [
      "Best model saved: BiLSTMWithAttention_best_model_4.0.pth with accuracy: 94.25%\n",
      "Epoch [7/30] - BiLSTMWithAttention, Train Loss: 0.1351, LR: 0.010000\n",
      "Epoch [7/30] - BiLSTMWithAttention, Test Loss: 0.2853, Accuracy: 93.10%\n"
     ]
    },
    {
     "name": "stderr",
     "output_type": "stream",
     "text": [
      "C:\\Users\\engab\\AppData\\Local\\Temp\\ipykernel_23128\\591907189.py:53: MatplotlibDeprecationWarning: The get_cmap function was deprecated in Matplotlib 3.7 and will be removed in 3.11. Use ``matplotlib.colormaps[name]`` or ``matplotlib.colormaps.get_cmap()`` or ``pyplot.get_cmap()`` instead.\n",
      "  colormap = cm.get_cmap('coolwarm')\n"
     ]
    },
    {
     "name": "stdout",
     "output_type": "stream",
     "text": [
      "Epoch [8/30] - BiLSTMWithAttention, Train Loss: 0.0529, LR: 0.010000\n",
      "Epoch [8/30] - BiLSTMWithAttention, Test Loss: 0.3159, Accuracy: 94.25%\n"
     ]
    },
    {
     "name": "stderr",
     "output_type": "stream",
     "text": [
      "C:\\Users\\engab\\AppData\\Local\\Temp\\ipykernel_23128\\591907189.py:53: MatplotlibDeprecationWarning: The get_cmap function was deprecated in Matplotlib 3.7 and will be removed in 3.11. Use ``matplotlib.colormaps[name]`` or ``matplotlib.colormaps.get_cmap()`` or ``pyplot.get_cmap()`` instead.\n",
      "  colormap = cm.get_cmap('coolwarm')\n"
     ]
    },
    {
     "name": "stdout",
     "output_type": "stream",
     "text": [
      "Epoch [9/30] - BiLSTMWithAttention, Train Loss: 0.1431, LR: 0.010000\n",
      "Epoch [9/30] - BiLSTMWithAttention, Test Loss: 0.3143, Accuracy: 91.95%\n"
     ]
    },
    {
     "name": "stderr",
     "output_type": "stream",
     "text": [
      "C:\\Users\\engab\\AppData\\Local\\Temp\\ipykernel_23128\\591907189.py:53: MatplotlibDeprecationWarning: The get_cmap function was deprecated in Matplotlib 3.7 and will be removed in 3.11. Use ``matplotlib.colormaps[name]`` or ``matplotlib.colormaps.get_cmap()`` or ``pyplot.get_cmap()`` instead.\n",
      "  colormap = cm.get_cmap('coolwarm')\n"
     ]
    },
    {
     "name": "stdout",
     "output_type": "stream",
     "text": [
      "Epoch [10/30] - BiLSTMWithAttention, Train Loss: 0.2494, LR: 0.010000\n",
      "Epoch [10/30] - BiLSTMWithAttention, Test Loss: 0.3214, Accuracy: 91.95%\n"
     ]
    },
    {
     "name": "stderr",
     "output_type": "stream",
     "text": [
      "C:\\Users\\engab\\AppData\\Local\\Temp\\ipykernel_23128\\591907189.py:53: MatplotlibDeprecationWarning: The get_cmap function was deprecated in Matplotlib 3.7 and will be removed in 3.11. Use ``matplotlib.colormaps[name]`` or ``matplotlib.colormaps.get_cmap()`` or ``pyplot.get_cmap()`` instead.\n",
      "  colormap = cm.get_cmap('coolwarm')\n"
     ]
    },
    {
     "name": "stdout",
     "output_type": "stream",
     "text": [
      "Epoch [11/30] - BiLSTMWithAttention, Train Loss: 0.0938, LR: 0.010000\n",
      "Epoch [11/30] - BiLSTMWithAttention, Test Loss: 0.2139, Accuracy: 95.40%\n"
     ]
    },
    {
     "name": "stderr",
     "output_type": "stream",
     "text": [
      "C:\\Users\\engab\\AppData\\Local\\Temp\\ipykernel_23128\\591907189.py:53: MatplotlibDeprecationWarning: The get_cmap function was deprecated in Matplotlib 3.7 and will be removed in 3.11. Use ``matplotlib.colormaps[name]`` or ``matplotlib.colormaps.get_cmap()`` or ``pyplot.get_cmap()`` instead.\n",
      "  colormap = cm.get_cmap('coolwarm')\n"
     ]
    },
    {
     "name": "stdout",
     "output_type": "stream",
     "text": [
      "Best model saved: BiLSTMWithAttention_best_model_4.0.pth with accuracy: 95.40%\n",
      "Epoch [12/30] - BiLSTMWithAttention, Train Loss: 0.0921, LR: 0.010000\n",
      "Epoch [12/30] - BiLSTMWithAttention, Test Loss: 0.2894, Accuracy: 93.10%\n"
     ]
    },
    {
     "name": "stderr",
     "output_type": "stream",
     "text": [
      "C:\\Users\\engab\\AppData\\Local\\Temp\\ipykernel_23128\\591907189.py:53: MatplotlibDeprecationWarning: The get_cmap function was deprecated in Matplotlib 3.7 and will be removed in 3.11. Use ``matplotlib.colormaps[name]`` or ``matplotlib.colormaps.get_cmap()`` or ``pyplot.get_cmap()`` instead.\n",
      "  colormap = cm.get_cmap('coolwarm')\n"
     ]
    },
    {
     "name": "stdout",
     "output_type": "stream",
     "text": [
      "Epoch [13/30] - BiLSTMWithAttention, Train Loss: 0.1612, LR: 0.010000\n",
      "Epoch [13/30] - BiLSTMWithAttention, Test Loss: 0.3184, Accuracy: 94.25%\n"
     ]
    },
    {
     "name": "stderr",
     "output_type": "stream",
     "text": [
      "C:\\Users\\engab\\AppData\\Local\\Temp\\ipykernel_23128\\591907189.py:53: MatplotlibDeprecationWarning: The get_cmap function was deprecated in Matplotlib 3.7 and will be removed in 3.11. Use ``matplotlib.colormaps[name]`` or ``matplotlib.colormaps.get_cmap()`` or ``pyplot.get_cmap()`` instead.\n",
      "  colormap = cm.get_cmap('coolwarm')\n"
     ]
    },
    {
     "name": "stdout",
     "output_type": "stream",
     "text": [
      "Epoch [14/30] - BiLSTMWithAttention, Train Loss: 0.0894, LR: 0.010000\n",
      "Epoch [14/30] - BiLSTMWithAttention, Test Loss: 0.2878, Accuracy: 90.80%\n"
     ]
    },
    {
     "name": "stderr",
     "output_type": "stream",
     "text": [
      "C:\\Users\\engab\\AppData\\Local\\Temp\\ipykernel_23128\\591907189.py:53: MatplotlibDeprecationWarning: The get_cmap function was deprecated in Matplotlib 3.7 and will be removed in 3.11. Use ``matplotlib.colormaps[name]`` or ``matplotlib.colormaps.get_cmap()`` or ``pyplot.get_cmap()`` instead.\n",
      "  colormap = cm.get_cmap('coolwarm')\n"
     ]
    },
    {
     "name": "stdout",
     "output_type": "stream",
     "text": [
      "Epoch [15/30] - BiLSTMWithAttention, Train Loss: 0.0487, LR: 0.005000\n",
      "Epoch [15/30] - BiLSTMWithAttention, Test Loss: 0.2613, Accuracy: 93.10%\n"
     ]
    },
    {
     "name": "stderr",
     "output_type": "stream",
     "text": [
      "C:\\Users\\engab\\AppData\\Local\\Temp\\ipykernel_23128\\591907189.py:53: MatplotlibDeprecationWarning: The get_cmap function was deprecated in Matplotlib 3.7 and will be removed in 3.11. Use ``matplotlib.colormaps[name]`` or ``matplotlib.colormaps.get_cmap()`` or ``pyplot.get_cmap()`` instead.\n",
      "  colormap = cm.get_cmap('coolwarm')\n"
     ]
    },
    {
     "name": "stdout",
     "output_type": "stream",
     "text": [
      "Epoch [16/30] - BiLSTMWithAttention, Train Loss: 0.0554, LR: 0.005000\n",
      "Epoch [16/30] - BiLSTMWithAttention, Test Loss: 0.2745, Accuracy: 94.25%\n"
     ]
    },
    {
     "name": "stderr",
     "output_type": "stream",
     "text": [
      "C:\\Users\\engab\\AppData\\Local\\Temp\\ipykernel_23128\\591907189.py:53: MatplotlibDeprecationWarning: The get_cmap function was deprecated in Matplotlib 3.7 and will be removed in 3.11. Use ``matplotlib.colormaps[name]`` or ``matplotlib.colormaps.get_cmap()`` or ``pyplot.get_cmap()`` instead.\n",
      "  colormap = cm.get_cmap('coolwarm')\n"
     ]
    },
    {
     "name": "stdout",
     "output_type": "stream",
     "text": [
      "Epoch [17/30] - BiLSTMWithAttention, Train Loss: 0.0210, LR: 0.005000\n",
      "Epoch [17/30] - BiLSTMWithAttention, Test Loss: 0.2816, Accuracy: 94.25%\n"
     ]
    },
    {
     "name": "stderr",
     "output_type": "stream",
     "text": [
      "C:\\Users\\engab\\AppData\\Local\\Temp\\ipykernel_23128\\591907189.py:53: MatplotlibDeprecationWarning: The get_cmap function was deprecated in Matplotlib 3.7 and will be removed in 3.11. Use ``matplotlib.colormaps[name]`` or ``matplotlib.colormaps.get_cmap()`` or ``pyplot.get_cmap()`` instead.\n",
      "  colormap = cm.get_cmap('coolwarm')\n"
     ]
    },
    {
     "name": "stdout",
     "output_type": "stream",
     "text": [
      "Epoch [18/30] - BiLSTMWithAttention, Train Loss: 0.0119, LR: 0.005000\n",
      "Epoch [18/30] - BiLSTMWithAttention, Test Loss: 0.2873, Accuracy: 95.40%\n"
     ]
    },
    {
     "name": "stderr",
     "output_type": "stream",
     "text": [
      "C:\\Users\\engab\\AppData\\Local\\Temp\\ipykernel_23128\\591907189.py:53: MatplotlibDeprecationWarning: The get_cmap function was deprecated in Matplotlib 3.7 and will be removed in 3.11. Use ``matplotlib.colormaps[name]`` or ``matplotlib.colormaps.get_cmap()`` or ``pyplot.get_cmap()`` instead.\n",
      "  colormap = cm.get_cmap('coolwarm')\n"
     ]
    },
    {
     "name": "stdout",
     "output_type": "stream",
     "text": [
      "Epoch [19/30] - BiLSTMWithAttention, Train Loss: 0.0070, LR: 0.005000\n",
      "Epoch [19/30] - BiLSTMWithAttention, Test Loss: 0.2778, Accuracy: 95.40%\n"
     ]
    },
    {
     "name": "stderr",
     "output_type": "stream",
     "text": [
      "C:\\Users\\engab\\AppData\\Local\\Temp\\ipykernel_23128\\591907189.py:53: MatplotlibDeprecationWarning: The get_cmap function was deprecated in Matplotlib 3.7 and will be removed in 3.11. Use ``matplotlib.colormaps[name]`` or ``matplotlib.colormaps.get_cmap()`` or ``pyplot.get_cmap()`` instead.\n",
      "  colormap = cm.get_cmap('coolwarm')\n"
     ]
    },
    {
     "name": "stdout",
     "output_type": "stream",
     "text": [
      "Epoch [20/30] - BiLSTMWithAttention, Train Loss: 0.0044, LR: 0.005000\n",
      "Epoch [20/30] - BiLSTMWithAttention, Test Loss: 0.2841, Accuracy: 95.40%\n"
     ]
    },
    {
     "name": "stderr",
     "output_type": "stream",
     "text": [
      "C:\\Users\\engab\\AppData\\Local\\Temp\\ipykernel_23128\\591907189.py:53: MatplotlibDeprecationWarning: The get_cmap function was deprecated in Matplotlib 3.7 and will be removed in 3.11. Use ``matplotlib.colormaps[name]`` or ``matplotlib.colormaps.get_cmap()`` or ``pyplot.get_cmap()`` instead.\n",
      "  colormap = cm.get_cmap('coolwarm')\n"
     ]
    },
    {
     "name": "stdout",
     "output_type": "stream",
     "text": [
      "Epoch [21/30] - BiLSTMWithAttention, Train Loss: 0.0030, LR: 0.005000\n",
      "Epoch [21/30] - BiLSTMWithAttention, Test Loss: 0.3031, Accuracy: 95.40%\n"
     ]
    },
    {
     "name": "stderr",
     "output_type": "stream",
     "text": [
      "C:\\Users\\engab\\AppData\\Local\\Temp\\ipykernel_23128\\591907189.py:53: MatplotlibDeprecationWarning: The get_cmap function was deprecated in Matplotlib 3.7 and will be removed in 3.11. Use ``matplotlib.colormaps[name]`` or ``matplotlib.colormaps.get_cmap()`` or ``pyplot.get_cmap()`` instead.\n",
      "  colormap = cm.get_cmap('coolwarm')\n"
     ]
    },
    {
     "name": "stdout",
     "output_type": "stream",
     "text": [
      "Epoch [22/30] - BiLSTMWithAttention, Train Loss: 0.0019, LR: 0.005000\n",
      "Epoch [22/30] - BiLSTMWithAttention, Test Loss: 0.3291, Accuracy: 95.40%\n"
     ]
    },
    {
     "name": "stderr",
     "output_type": "stream",
     "text": [
      "C:\\Users\\engab\\AppData\\Local\\Temp\\ipykernel_23128\\591907189.py:53: MatplotlibDeprecationWarning: The get_cmap function was deprecated in Matplotlib 3.7 and will be removed in 3.11. Use ``matplotlib.colormaps[name]`` or ``matplotlib.colormaps.get_cmap()`` or ``pyplot.get_cmap()`` instead.\n",
      "  colormap = cm.get_cmap('coolwarm')\n"
     ]
    },
    {
     "name": "stdout",
     "output_type": "stream",
     "text": [
      "Epoch [23/30] - BiLSTMWithAttention, Train Loss: 0.0016, LR: 0.005000\n",
      "Epoch [23/30] - BiLSTMWithAttention, Test Loss: 0.3422, Accuracy: 95.40%\n"
     ]
    },
    {
     "name": "stderr",
     "output_type": "stream",
     "text": [
      "C:\\Users\\engab\\AppData\\Local\\Temp\\ipykernel_23128\\591907189.py:53: MatplotlibDeprecationWarning: The get_cmap function was deprecated in Matplotlib 3.7 and will be removed in 3.11. Use ``matplotlib.colormaps[name]`` or ``matplotlib.colormaps.get_cmap()`` or ``pyplot.get_cmap()`` instead.\n",
      "  colormap = cm.get_cmap('coolwarm')\n"
     ]
    },
    {
     "name": "stdout",
     "output_type": "stream",
     "text": [
      "Epoch [24/30] - BiLSTMWithAttention, Train Loss: 0.0013, LR: 0.005000\n",
      "Epoch [24/30] - BiLSTMWithAttention, Test Loss: 0.3477, Accuracy: 95.40%\n"
     ]
    },
    {
     "name": "stderr",
     "output_type": "stream",
     "text": [
      "C:\\Users\\engab\\AppData\\Local\\Temp\\ipykernel_23128\\591907189.py:53: MatplotlibDeprecationWarning: The get_cmap function was deprecated in Matplotlib 3.7 and will be removed in 3.11. Use ``matplotlib.colormaps[name]`` or ``matplotlib.colormaps.get_cmap()`` or ``pyplot.get_cmap()`` instead.\n",
      "  colormap = cm.get_cmap('coolwarm')\n"
     ]
    },
    {
     "name": "stdout",
     "output_type": "stream",
     "text": [
      "Epoch [25/30] - BiLSTMWithAttention, Train Loss: 0.0010, LR: 0.005000\n",
      "Epoch [25/30] - BiLSTMWithAttention, Test Loss: 0.3526, Accuracy: 95.40%\n"
     ]
    },
    {
     "name": "stderr",
     "output_type": "stream",
     "text": [
      "C:\\Users\\engab\\AppData\\Local\\Temp\\ipykernel_23128\\591907189.py:53: MatplotlibDeprecationWarning: The get_cmap function was deprecated in Matplotlib 3.7 and will be removed in 3.11. Use ``matplotlib.colormaps[name]`` or ``matplotlib.colormaps.get_cmap()`` or ``pyplot.get_cmap()`` instead.\n",
      "  colormap = cm.get_cmap('coolwarm')\n"
     ]
    },
    {
     "name": "stdout",
     "output_type": "stream",
     "text": [
      "Epoch [26/30] - BiLSTMWithAttention, Train Loss: 0.0009, LR: 0.005000\n",
      "Epoch [26/30] - BiLSTMWithAttention, Test Loss: 0.3565, Accuracy: 95.40%\n"
     ]
    },
    {
     "name": "stderr",
     "output_type": "stream",
     "text": [
      "C:\\Users\\engab\\AppData\\Local\\Temp\\ipykernel_23128\\591907189.py:53: MatplotlibDeprecationWarning: The get_cmap function was deprecated in Matplotlib 3.7 and will be removed in 3.11. Use ``matplotlib.colormaps[name]`` or ``matplotlib.colormaps.get_cmap()`` or ``pyplot.get_cmap()`` instead.\n",
      "  colormap = cm.get_cmap('coolwarm')\n"
     ]
    },
    {
     "name": "stdout",
     "output_type": "stream",
     "text": [
      "Epoch [27/30] - BiLSTMWithAttention, Train Loss: 0.0007, LR: 0.005000\n",
      "Epoch [27/30] - BiLSTMWithAttention, Test Loss: 0.3599, Accuracy: 95.40%\n"
     ]
    },
    {
     "name": "stderr",
     "output_type": "stream",
     "text": [
      "C:\\Users\\engab\\AppData\\Local\\Temp\\ipykernel_23128\\591907189.py:53: MatplotlibDeprecationWarning: The get_cmap function was deprecated in Matplotlib 3.7 and will be removed in 3.11. Use ``matplotlib.colormaps[name]`` or ``matplotlib.colormaps.get_cmap()`` or ``pyplot.get_cmap()`` instead.\n",
      "  colormap = cm.get_cmap('coolwarm')\n"
     ]
    },
    {
     "name": "stdout",
     "output_type": "stream",
     "text": [
      "Epoch [28/30] - BiLSTMWithAttention, Train Loss: 0.0006, LR: 0.005000\n",
      "Epoch [28/30] - BiLSTMWithAttention, Test Loss: 0.3640, Accuracy: 95.40%\n"
     ]
    },
    {
     "name": "stderr",
     "output_type": "stream",
     "text": [
      "C:\\Users\\engab\\AppData\\Local\\Temp\\ipykernel_23128\\591907189.py:53: MatplotlibDeprecationWarning: The get_cmap function was deprecated in Matplotlib 3.7 and will be removed in 3.11. Use ``matplotlib.colormaps[name]`` or ``matplotlib.colormaps.get_cmap()`` or ``pyplot.get_cmap()`` instead.\n",
      "  colormap = cm.get_cmap('coolwarm')\n"
     ]
    },
    {
     "name": "stdout",
     "output_type": "stream",
     "text": [
      "Epoch [29/30] - BiLSTMWithAttention, Train Loss: 0.0006, LR: 0.005000\n",
      "Epoch [29/30] - BiLSTMWithAttention, Test Loss: 0.3674, Accuracy: 95.40%\n"
     ]
    },
    {
     "name": "stderr",
     "output_type": "stream",
     "text": [
      "C:\\Users\\engab\\AppData\\Local\\Temp\\ipykernel_23128\\591907189.py:53: MatplotlibDeprecationWarning: The get_cmap function was deprecated in Matplotlib 3.7 and will be removed in 3.11. Use ``matplotlib.colormaps[name]`` or ``matplotlib.colormaps.get_cmap()`` or ``pyplot.get_cmap()`` instead.\n",
      "  colormap = cm.get_cmap('coolwarm')\n"
     ]
    },
    {
     "name": "stdout",
     "output_type": "stream",
     "text": [
      "Epoch [30/30] - BiLSTMWithAttention, Train Loss: 0.0005, LR: 0.005000\n",
      "Epoch [30/30] - BiLSTMWithAttention, Test Loss: 0.3711, Accuracy: 95.40%\n"
     ]
    },
    {
     "name": "stderr",
     "output_type": "stream",
     "text": [
      "C:\\Users\\engab\\AppData\\Local\\Temp\\ipykernel_23128\\591907189.py:53: MatplotlibDeprecationWarning: The get_cmap function was deprecated in Matplotlib 3.7 and will be removed in 3.11. Use ``matplotlib.colormaps[name]`` or ``matplotlib.colormaps.get_cmap()`` or ``pyplot.get_cmap()`` instead.\n",
      "  colormap = cm.get_cmap('coolwarm')\n"
     ]
    },
    {
     "name": "stdout",
     "output_type": "stream",
     "text": [
      "Training complete for BiLSTMWithAttention. Best accuracy: 95.40%\n"
     ]
    }
   ],
   "source": [
    "def visualize_average_saliency_per_class(model, data_loader, action_label, action_name, save_dir, epoch):\n",
    "    os.makedirs(save_dir, exist_ok=True)\n",
    "\n",
    "    # Prepare\n",
    "    model.train()  # Ensure model is in train mode for backward()\n",
    "    \n",
    "    keypoint_positions = {\n",
    "        0: (0, 10), 1: (0, 8), 2: (-1, 6), 3: (-2, 4), 4: (-2, 2),\n",
    "        5: (1, 6), 6: (2, 4), 7: (2, 2), 8: (-1, 4), 9: (-1, 2),\n",
    "        10: (-1, 0), 11: (1, 4), 12: (1, 2), 13: (1, 0),\n",
    "        14: (-0.3, 11), 15: (0.3, 11), 16: (-0.5, 10.5),\n",
    "    }\n",
    "    skeleton_connections = [\n",
    "        (0,1), (1,2), (2,3), (3,4), (1,5), (5,6), (6,7),\n",
    "        (1,8), (8,9), (9,10), (1,11), (11,12), (12,13),\n",
    "        (0,14), (0,15), (14,16)\n",
    "    ]\n",
    "    keypoint_labels = [\n",
    "        \"Nose\",\"Neck\",\"R.Shoulder\",\"R.Elbow\",\"R.Wrist\",\"L.Shoulder\",\"L.Elbow\",\"L.Wrist\",\n",
    "        \"R.Hip\",\"R.Knee\",\"R.Ankle\",\"L.Hip\",\"L.Knee\",\"L.Ankle\",\"R.Eye\",\"L.Eye\",\"R.Ear\"\n",
    "    ]\n",
    "\n",
    "    saliency_accumulator, count = [], 0\n",
    "\n",
    "    for keypoints, labels in data_loader:\n",
    "        keypoints, labels = keypoints.to(device), labels.to(device)\n",
    "        indices = (labels == action_label).nonzero(as_tuple=True)[0]\n",
    "        \n",
    "        for idx in indices:\n",
    "            keypoints_sample = keypoints[idx:idx+1].clone().detach().requires_grad_(True)\n",
    "            outputs = model(keypoints_sample)\n",
    "            logits, _ = outputs if isinstance(outputs, tuple) else (outputs, None)\n",
    "            pred_class = logits.argmax(1).item()\n",
    "            model.zero_grad()\n",
    "            score = logits[0, pred_class]\n",
    "            score.backward()\n",
    "\n",
    "            grads = keypoints_sample.grad[0].view(keypoints_sample.size(1), 17, 2).abs().mean(dim=2)\n",
    "            avg_grads = grads.mean(dim=0).cpu().numpy()\n",
    "            saliency_accumulator.append(avg_grads)\n",
    "            count += 1\n",
    "\n",
    "    if count == 0:\n",
    "        print(f\"No samples found for action {action_name}.\")\n",
    "        model.eval()  # Switch back to eval\n",
    "        return\n",
    "\n",
    "    avg_saliency = np.mean(saliency_accumulator, axis=0)\n",
    "    norm_scores = (avg_saliency - avg_saliency.min()) / (avg_saliency.ptp() + 1e-8)\n",
    "\n",
    "    # Plot\n",
    "    plt.figure(figsize=(6,10))\n",
    "    colormap = cm.get_cmap('coolwarm')\n",
    "    for p1, p2 in skeleton_connections:\n",
    "        plt.plot([keypoint_positions[p1][0], keypoint_positions[p2][0]],\n",
    "                 [keypoint_positions[p1][1], keypoint_positions[p2][1]],\n",
    "                 'gray', linewidth=1, alpha=0.7)\n",
    "    for idx in range(17):\n",
    "        x, y = keypoint_positions[idx]\n",
    "        plt.scatter(x, y, s=norm_scores[idx]*800+150, c=[colormap(norm_scores[idx])], edgecolors='k', linewidths=1, zorder=3)\n",
    "        plt.text(x+0.1, y+0.1, f\"{idx}:{keypoint_labels[idx]}\", fontsize=9, color='black', zorder=4)\n",
    "    plt.title(f\"Avg Saliency for {action_name} (Epoch {epoch+1})\\nCircle size/color: Keypoint importance\")\n",
    "    plt.axis('off'); plt.xlim(-3,3); plt.ylim(-1,12); plt.tight_layout()\n",
    "    plt.savefig(os.path.join(save_dir, f\"saliency_{action_name}_epoch_{epoch+1}.png\"), bbox_inches='tight')\n",
    "    plt.close()\n",
    "\n",
    "    model.eval()  # Switch back to eval\n",
    "\n",
    "criterion = nn.CrossEntropyLoss()\n",
    "metrics = {}\n",
    "\n",
    "for model_name, model in models.items():\n",
    "    optimizer = optim.AdamW(model.parameters(), lr=learning_rate, weight_decay=1e-4)\n",
    "    scheduler = torch.optim.lr_scheduler.ReduceLROnPlateau(optimizer, mode='min', factor=0.5, patience=5)\n",
    "    best_accuracy = 0.0\n",
    "    best_model_path = f\"{model_name}_best_model_4.0.pth\"\n",
    "\n",
    "    print(f\"Training model: {model_name}\")\n",
    "    logging.info(f\"Training model: {model_name}\")\n",
    "    metrics[model_name] = {\"train_losses\": [], \"test_losses\": [], \"accuracies\": []}\n",
    "\n",
    "    for epoch in range(num_epochs):\n",
    "        # ----- Training -----\n",
    "        model.train()\n",
    "        train_loss = 0.0\n",
    "        for keypoints, labels in train_loader:\n",
    "            keypoints, labels = keypoints.to(device), labels.to(device)\n",
    "            outputs = model(keypoints)\n",
    "            if isinstance(outputs, tuple): outputs = outputs[0]\n",
    "            loss = criterion(outputs, labels)\n",
    "            optimizer.zero_grad()\n",
    "            loss.backward()\n",
    "            torch.nn.utils.clip_grad_norm_(model.parameters(), max_norm=1.0)\n",
    "            optimizer.step()\n",
    "            train_loss += loss.item() * keypoints.size(0)\n",
    "        train_loss /= len(train_dataset)\n",
    "        metrics[model_name][\"train_losses\"].append(train_loss)\n",
    "        print(f\"Epoch [{epoch+1}/{num_epochs}] - {model_name}, Train Loss: {train_loss:.4f}, LR: {optimizer.param_groups[0]['lr']:.6f}\")\n",
    "        scheduler.step(train_loss)\n",
    "\n",
    "        # ----- Evaluation -----\n",
    "        model.eval()\n",
    "        correct, total, test_loss = 0, 0, 0.0\n",
    "        with torch.no_grad():\n",
    "            for keypoints, labels in test_loader:\n",
    "                keypoints, labels = keypoints.to(device), labels.to(device)\n",
    "                outputs = model(keypoints)\n",
    "                if isinstance(outputs, tuple): outputs = outputs[0]\n",
    "                loss = criterion(outputs, labels)\n",
    "                test_loss += loss.item() * keypoints.size(0)\n",
    "                _, predicted = torch.max(outputs.data, 1)\n",
    "                total += labels.size(0)\n",
    "                correct += (predicted == labels).sum().item()\n",
    "        test_loss /= len(test_dataset)\n",
    "        accuracy = 100 * correct / total\n",
    "        metrics[model_name][\"test_losses\"].append(test_loss)\n",
    "        metrics[model_name][\"accuracies\"].append(accuracy)\n",
    "        print(f\"Epoch [{epoch+1}/{num_epochs}] - {model_name}, Test Loss: {test_loss:.4f}, Accuracy: {accuracy:.2f}%\")\n",
    "\n",
    "        # ----- Attention Visualization -----\n",
    "        class_attentions = {cls: [] for cls in range(num_classes)}\n",
    "        model.eval()  # Ensure eval for attention\n",
    "        with torch.no_grad():\n",
    "            for keypoints, labels in test_loader:\n",
    "                keypoints = keypoints.to(device)\n",
    "                outputs = model(keypoints)\n",
    "                if isinstance(outputs, tuple):\n",
    "                    _, attn = outputs\n",
    "                    for i, label in enumerate(labels.cpu().numpy()):\n",
    "                        class_attentions[label].append(attn[i].cpu().numpy())\n",
    "        os.makedirs(\"attention_outputs\", exist_ok=True)\n",
    "        fig, axes = plt.subplots(1, num_classes, figsize=(15, 3))\n",
    "        for cls in range(num_classes):\n",
    "            if class_attentions[cls]:\n",
    "                avg_attn = np.mean(class_attentions[cls], axis=0)\n",
    "                ax = axes[cls] if num_classes > 1 else axes\n",
    "                sns.heatmap([avg_attn], ax=ax, cmap='viridis', cbar=True)\n",
    "                ax.set_title(action_classes[cls])\n",
    "                ax.set_xticks([]), ax.set_yticks([])\n",
    "        plt.tight_layout()\n",
    "        plt.savefig(f\"attention_outputs/attention_epoch_{epoch+1}.png\")\n",
    "        plt.close()\n",
    "\n",
    "        # ----- Saliency Visualization -----\n",
    "        action_dirs = {0: \"saliency_falling_outputs\", 1: \"saliency_no_action_outputs\", 2: \"saliency_waving_outputs\"}\n",
    "        action_names = {0: \"Falling\", 1: \"No Action\", 2: \"Waving\"}\n",
    "\n",
    "        for action_label, action_name in action_names.items():\n",
    "            model.train()  # CuDNN backward needs train mode\n",
    "            visualize_average_saliency_per_class(\n",
    "                model=model,\n",
    "                data_loader=test_loader,\n",
    "                action_label=action_label,\n",
    "                action_name=action_name,\n",
    "                save_dir=action_dirs[action_label],\n",
    "                epoch=epoch\n",
    "            )\n",
    "            model.eval()  # Optional: reset to eval\n",
    "\n",
    "        # ----- Save Best Model -----\n",
    "        if accuracy > best_accuracy:\n",
    "            best_accuracy = accuracy\n",
    "            torch.save(model.state_dict(), best_model_path)\n",
    "            print(f\"Best model saved: {best_model_path} with accuracy: {best_accuracy:.2f}%\")\n",
    "\n",
    "    print(f\"Training complete for {model_name}. Best accuracy: {best_accuracy:.2f}%\")\n",
    "    logging.info(f\"Training complete for {model_name}. Best accuracy: {best_accuracy:.2f}%\")"
   ]
  },
  {
   "cell_type": "markdown",
   "metadata": {},
   "source": [
    "# 6. testing all models and generating classifications report with confusion metrics on the whole dataset in the folders ---\n"
   ]
  },
  {
   "cell_type": "markdown",
   "metadata": {},
   "source": [
    "## 6.1. Testing Block for BiLSTMWithAttention Model\n"
   ]
  },
  {
   "cell_type": "code",
   "execution_count": 11,
   "metadata": {},
   "outputs": [
    {
     "name": "stdout",
     "output_type": "stream",
     "text": [
      "Classification Report for BiLSTMWithAttention:\n",
      "              precision    recall  f1-score   support\n",
      "\n",
      "     Falling       0.98      1.00      0.99       139\n",
      "   No Action       0.98      0.96      0.97       125\n",
      "      Waving       0.98      0.98      0.98        84\n",
      "\n",
      "    accuracy                           0.98       348\n",
      "   macro avg       0.98      0.98      0.98       348\n",
      "weighted avg       0.98      0.98      0.98       348\n",
      "\n",
      "Confusion Matrix for BiLSTMWithAttention:\n"
     ]
    },
    {
     "data": {
      "image/png": "[encoded data removed]",
      "text/plain": [
       "<Figure size 800x600 with 2 Axes>"
      ]
     },
     "metadata": {},
     "output_type": "display_data"
    }
   ],
   "source": [
    "# Load the model\n",
    "model_name = \"BiLSTMWithAttention\"\n",
    "model = ActionRecognitionBiLSTMWithAttention(input_size, hidden_size, num_layers, num_classes, dropout_rate).to(device)\n",
    "model.load_state_dict(torch.load(f\"{model_name}_best_model_4.0.pth\"))\n",
    "model.eval()\n",
    "\n",
    "all_preds = []\n",
    "all_labels = []\n",
    "\n",
    "with torch.no_grad():\n",
    "    for keypoints, labels in train_loader:\n",
    "        keypoints = keypoints.to(device)\n",
    "        labels = labels.to(device)\n",
    "\n",
    "        outputs = model(keypoints)\n",
    "        if isinstance(outputs, tuple):\n",
    "            outputs = outputs[0]  # Handle attention-based models\n",
    "\n",
    "        _, predicted = torch.max(outputs.data, 1)\n",
    "        all_preds.extend(predicted.cpu().numpy())\n",
    "        all_labels.extend(labels.cpu().numpy())\n",
    "\n",
    "print(f\"Classification Report for {model_name}:\")\n",
    "print(classification_report(all_labels, all_preds, target_names=action_classes))\n",
    "\n",
    "print(f\"Confusion Matrix for {model_name}:\")\n",
    "conf_matrix = confusion_matrix(all_labels, all_preds)\n",
    "action_classes = [\"Falling\", \"No Action\", \"Waving\"]\n",
    "plt.figure(figsize=(8, 6))\n",
    "sns.heatmap(conf_matrix, annot=True, fmt=\"d\", cmap=\"Blues\", xticklabels=action_classes, yticklabels=action_classes)\n",
    "plt.title(f\"Confusion Matrix for {model_name}\")\n",
    "plt.xlabel(\"Predicted Label\")\n",
    "plt.ylabel(\"True Label\")\n",
    "plt.show()\n"
   ]
  },
  {
   "cell_type": "code",
   "execution_count": 12,
   "metadata": {},
   "outputs": [
    {
     "name": "stdout",
     "output_type": "stream",
     "text": [
      "Accuracy: 95.40%\n",
      "\n",
      "Classification Report:\n",
      "              precision    recall  f1-score   support\n",
      "\n",
      "     Falling       1.00      0.95      0.97        41\n",
      "   No Action       0.87      0.95      0.91        21\n",
      "      Waving       0.96      0.96      0.96        25\n",
      "\n",
      "    accuracy                           0.95        87\n",
      "   macro avg       0.94      0.95      0.95        87\n",
      "weighted avg       0.96      0.95      0.95        87\n",
      "\n",
      "\n",
      "Confusion Matrix:\n",
      "[[39  2  0]\n",
      " [ 0 20  1]\n",
      " [ 0  1 24]]\n"
     ]
    },
    {
     "data": {
      "image/png": "[encoded data removed]",
      "text/plain": [
       "<Figure size 640x480 with 2 Axes>"
      ]
     },
     "metadata": {},
     "output_type": "display_data"
    }
   ],
   "source": [
    " # Load the model\n",
    "model_path = \"BiLSTMWithAttention_best_model_4.0.pth\"\n",
    "model_name = \"BiLSTMWithAttention\"\n",
    "model = ActionRecognitionBiLSTMWithAttention(input_size, hidden_size, num_layers, num_classes, dropout_rate).to(device)\n",
    "correct = 0\n",
    "total = 0\n",
    "all_labels = []\n",
    "all_predictions = []\n",
    "# Load the model weights\n",
    "model.load_state_dict(torch.load(model_path))\n",
    "model.eval()  # Set to evaluation mode\n",
    "\n",
    "# Disable gradient computation for evaluation\n",
    "with torch.no_grad():\n",
    "    for keypoints, labels in test_loader:\n",
    "        keypoints = keypoints.to(device)\n",
    "        labels = labels.to(device)\n",
    "\n",
    "        # Forward pass\n",
    "        outputs = model(keypoints)\n",
    "\n",
    "        # Handle tuple output (e.g., attention-based models)\n",
    "        if isinstance(outputs, tuple):\n",
    "            outputs = outputs[0]\n",
    "\n",
    "        # Get predictions\n",
    "        _, predicted = torch.max(outputs.data, 1)\n",
    "        total += labels.size(0)\n",
    "        correct += (predicted == labels).sum().item()\n",
    "\n",
    "        # Store labels and predictions for further analysis\n",
    "        all_labels.extend(labels.cpu().numpy())\n",
    "        all_predictions.extend(predicted.cpu().numpy())\n",
    "\n",
    "# Calculate accuracy\n",
    "accuracy = 100 * correct / total\n",
    "print(f\"Accuracy: {accuracy:.2f}%\")\n",
    "\n",
    "# Generate classification report\n",
    "print(\"\\nClassification Report:\")\n",
    "print(classification_report(all_labels, all_predictions, target_names=action_classes))\n",
    "\n",
    "# Generate confusion matrix\n",
    "conf_matrix = confusion_matrix(all_labels, all_predictions)\n",
    "print(\"\\nConfusion Matrix:\")\n",
    "print(conf_matrix)\n",
    "\n",
    "# Plot confusion matrix\n",
    "sns.heatmap(conf_matrix, annot=True, fmt=\"d\", cmap=\"Blues\", xticklabels=action_classes, yticklabels=action_classes)\n",
    "plt.xlabel(\"Predicted\")\n",
    "plt.ylabel(\"True\")\n",
    "plt.title(f\"Confusion Matrix - {model_name}\")\n",
    "plt.show()"
   ]
  },
  {
   "cell_type": "code",
   "execution_count": 13,
   "metadata": {},
   "outputs": [
    {
     "name": "stdout",
     "output_type": "stream",
     "text": [
      "ActionRecognitionBiLSTMWithAttention(\n",
      "  (lstm): LSTM(34, 32, num_layers=3, batch_first=True, dropout=0.2, bidirectional=True)\n",
      "  (attention): AttentionLayer(\n",
      "    (attention_weights): Linear(in_features=64, out_features=1, bias=True)\n",
      "  )\n",
      "  (fc): Linear(in_features=64, out_features=3, bias=True)\n",
      "  (dropout): Dropout(p=0.2, inplace=False)\n",
      ")\n"
     ]
    }
   ],
   "source": [
    "print(model)"
   ]
  },
  {
   "cell_type": "code",
   "execution_count": 14,
   "metadata": {},
   "outputs": [
    {
     "data": {
      "image/png": "[encoded data removed]",
      "text/plain": [
       "<Figure size 640x480 with 1 Axes>"
      ]
     },
     "metadata": {},
     "output_type": "display_data"
    },
    {
     "data": {
      "image/png": "[encoded data removed]",
      "text/plain": [
       "<Figure size 640x480 with 1 Axes>"
      ]
     },
     "metadata": {},
     "output_type": "display_data"
    }
   ],
   "source": [
    "model_name = \"BiLSTMWithAttention\"\n",
    "train_losses = metrics[model_name][\"train_losses\"]\n",
    "test_losses = metrics[model_name][\"test_losses\"]\n",
    "accuracies = metrics[model_name][\"accuracies\"]\n",
    "\n",
    "# Plot training and test loss\n",
    "plt.plot(range(1, num_epochs + 1), train_losses, label=\"Training Loss\")\n",
    "plt.plot(range(1, num_epochs + 1), test_losses, label=\"Test Loss\")\n",
    "plt.xlabel(\"Epochs\")\n",
    "plt.ylabel(\"Loss\")\n",
    "plt.title(f\"{model_name} - Loss Curve\")\n",
    "plt.legend()\n",
    "plt.show()\n",
    "\n",
    "# Plot accuracy\n",
    "plt.plot(range(1, num_epochs + 1), accuracies, label=\"Accuracy\", color=\"green\")\n",
    "plt.xlabel(\"Epochs\")\n",
    "plt.ylabel(\"Accuracy (%)\")\n",
    "plt.title(f\"{model_name} - Accuracy Curve\")\n",
    "plt.legend()\n",
    "plt.show()"
   ]
  }
 ],
 "metadata": {
  "kernelspec": {
   "display_name": "AIstudio",
   "language": "python",
   "name": "python3"
  },
  "language_info": {
   "codemirror_mode": {
    "name": "ipython",
    "version": 3
   },
   "file_extension": ".py",
   "mimetype": "text/x-python",
   "name": "python",
   "nbconvert_exporter": "python",
   "pygments_lexer": "ipython3",
   "version": "3.11.9"
  }
 },
 "nbformat": 4,
 "nbformat_minor": 2
}
